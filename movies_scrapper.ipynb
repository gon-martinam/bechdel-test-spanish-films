{
 "cells": [
  {
   "cell_type": "markdown",
   "metadata": {},
   "source": [
    "## Imports"
   ]
  },
  {
   "cell_type": "code",
   "execution_count": 12,
   "metadata": {},
   "outputs": [],
   "source": [
    "import urllib, json\n",
    "import pandas as pd\n",
    "\n",
    "# HTML parsing\n",
    "from lxml import html\n",
    "import requests"
   ]
  },
  {
   "cell_type": "markdown",
   "metadata": {},
   "source": [
    "## Getting all the Spanish movies"
   ]
  },
  {
   "cell_type": "markdown",
   "metadata": {},
   "source": [
    "Source: Wikipedia. https://es.wikipedia.org/wiki/Categor%C3%ADa:Pel%C3%ADculas_de_Espa%C3%B1a"
   ]
  },
  {
   "cell_type": "markdown",
   "metadata": {},
   "source": [
    "Since there was no existing database with Spanish films and their scores in the Bechdel test, it was necessary to create one of our own.\n",
    "To do so, we have opted to scrape the information of all the Spanish production (or co-production) films that we could find (source: Wikipedia).\n",
    "In addition, we have made use of the API offered by https://bechdeltest.com/ (the API documentation can be accessed via the following link: https://bechdeltest.com/api/v1/doc). Thanks to the method \"getMovieByImdbId\" it has been possible to obtain the Bechdel score of 172 films (out of the 3 149 that were scraped from Wikipedia).\n",
    "To do this, it was necessary to obtain the IMDb ID of each of the films. This was achieved by means of XPath expressions."
   ]
  },
  {
   "cell_type": "markdown",
   "metadata": {},
   "source": [
    "<img src=\"img/wikipedia_imdbid.png\" width=1000 height=800/>"
   ]
  },
  {
   "cell_type": "code",
   "execution_count": null,
   "metadata": {},
   "outputs": [],
   "source": [
    "wikipedia_spanish_movies_imdbid_list = []\n",
    "\n",
    "# AQUÍ HAY QUE METER UNA LISTA CON LOS LINKS DE LAS DISTINTAS PÁGINAS DE 200 EN 200 PELÍCULAS\n",
    "# O IR SCRAPEANDO EL ENLACE DE LA SIGUENTE PÁGINA HASTA LA ÚLTIMA\n",
    "\n",
    "for i in range(1):\n",
    "    wikipedia_page = requests.get('https://es.wikipedia.org/w/index.php?title=Categor%C3%ADa:Pel%C3%ADculas_de_Espa%C3%B1a&pagefrom=Un+verano+para+matar#mw-pages')\n",
    "    wikipedia_tree = html.fromstring(wikipedia_page.content)\n",
    "    wikipedia_links_list = wikipedia_tree.xpath('//div[@class=\"mw-category-group\"]/ul/li/a[@href]')\n",
    "    wikipedia_links_href_list = [f'https://es.wikipedia.org/{link.get(\"href\")}' for link in wikipedia_links_list]\n",
    "    for movie_link in wikipedia_links_href_list:\n",
    "        movie_page = requests.get(movie_link)\n",
    "        movie_tree = html.fromstring(movie_page.content)\n",
    "        movie_imdbid = movie_tree.xpath('//td[@class=\"navbox-list navbox-odd\"]/div/ul/li[5]/span[@class=\"uid\"]/a/text()')\n",
    "        if movie_imdbid:\n",
    "            movie_imdbid = movie_imdbid[0][2:]\n",
    "            print(movie_imdbid)\n",
    "            wikipedia_spanish_movies_imdbid_list.append(movie_imdbid)\n",
    "        else:\n",
    "            print('List is empty')"
   ]
  },
  {
   "cell_type": "markdown",
   "metadata": {},
   "source": [
    "## Getting Spanish movies that have Bechdel Score alredy rated"
   ]
  },
  {
   "cell_type": "markdown",
   "metadata": {},
   "source": [
    "As previously mentioned, once the IMDb IDs of all the films produced in Spain have been obtained, requests are made to the Bechdel test API.\n",
    "As expected, as these are Spanish films, not all of them have been tested and collected in this database, so we have to deal with these situations in which the API returns an empty list.\n",
    "When the movie is in the database, the API returns a JSON, as shown in the following image."
   ]
  },
  {
   "cell_type": "markdown",
   "metadata": {},
   "source": [
    "<img src=\"img/json_example_bechdel.png\" width=300 height=300/>"
   ]
  },
  {
   "cell_type": "markdown",
   "metadata": {},
   "source": [
    "Once the list with the JSON objects is obtained, we convert it to a data frame.\n",
    "The reason why we add all the elements to a list first and then convert it to a data frame instead of adding each JSON object as a new row of a data frame is because the runtime is much longer than adding elements to a list. This can be seen in the following graph."
   ]
  },
  {
   "cell_type": "markdown",
   "metadata": {},
   "source": [
    "<img src=\"img/runtime_list_df_append.png\" width=600 height=600/>"
   ]
  },
  {
   "cell_type": "code",
   "execution_count": null,
   "metadata": {},
   "outputs": [],
   "source": [
    "df_wikipedia_spanish_movies_list = []\n",
    "for wikipedia_spanish_movie_imdbid in wikipedia_spanish_movies_imdbid_list:\n",
    "    http_request = f'http://bechdeltest.com/api/v1/getMovieByImdbId?imdbid={wikipedia_spanish_movie_imdbid}'\n",
    "    new_wikipedia_movie = pd.read_json(http_request, typ=\"series\")\n",
    "    df_wikipedia_spanish_movies_list.append(new_wikipedia_movie)\n",
    "\n",
    "df_wikipedia_spanish_movies = pd.DataFrame(df_wikipedia_spanish_movies_list)"
   ]
  },
  {
   "cell_type": "markdown",
   "metadata": {},
   "source": [
    "The final data frame will also contain films that could not be found in the Bechdel test database. It is easy to discard these rows, because in the column \"description\" they contain the string \"Could not find movie\"."
   ]
  },
  {
   "cell_type": "code",
   "execution_count": null,
   "metadata": {},
   "outputs": [],
   "source": [
    "df_wikipedia_spanish_movies = df_wikipedia_spanish_movies.drop(df_wikipedia_spanish_movies[df_wikipedia_spanish_movies.description == \"Could not find movie\"].index)\n",
    "df_wikipedia_spanish_movies.reset_index(inplace=True)"
   ]
  },
  {
   "cell_type": "markdown",
   "metadata": {},
   "source": [
    "Finally, the data frame information is saved in a CSV file."
   ]
  },
  {
   "cell_type": "code",
   "execution_count": null,
   "metadata": {},
   "outputs": [],
   "source": [
    "df_wikipedia_spanish_movies.to_csv(\"wikipedia_spanish_movies_bechdel_new.csv\", mode='a', columns=[\"index\", \"status\", \"version\", \"description\", \"date\", \"dubious\", \"year\", \"visible\", \"rating\", \"title\", \"submitterid\", \"id\", \"imdbid\"], header=False, index=False)"
   ]
  },
  {
   "cell_type": "markdown",
   "metadata": {},
   "source": [
    "## Getting the IMDb information of Spanish movies"
   ]
  },
  {
   "cell_type": "markdown",
   "metadata": {},
   "source": [
    "Because one of the analyses to be carried out needs to know the rating of each film, it is necessary to scrape this information, this time from the IMDb website. The f-string is used to generate the URLs of each film's page in IMDb, which will be scraped to obtain the rating."
   ]
  },
  {
   "cell_type": "markdown",
   "metadata": {},
   "source": [
    "<img src=\"img/url_rating_imdb.png\" width=1000 height=800/>"
   ]
  },
  {
   "cell_type": "markdown",
   "metadata": {},
   "source": [
    "<img src=\"img/html_rating_imdb.png\" width=1000 height=800/>"
   ]
  },
  {
   "cell_type": "markdown",
   "metadata": {},
   "source": [
    "<img align=\"left\" src=\"img/genre_example.png\" width=630 height=600/>\n",
    "<img align=\"right\" src=\"img/director_example.png\" width=630 height=600/>"
   ]
  },
  {
   "cell_type": "markdown",
   "metadata": {},
   "source": [
    "<img align=\"left\" src=\"img/budget_example.png\" width=630 height=600/>\n",
    "<img align=\"right\" src=\"img/gross_example.png\" width=630 height=600/>"
   ]
  },
  {
   "cell_type": "markdown",
   "metadata": {},
   "source": [
    "As before, the information we need to perform the various analyses must be scraped by means of XPath expressions."
   ]
  },
  {
   "cell_type": "markdown",
   "metadata": {},
   "source": [
    "Always keep in mind that it is not possible to assume that all pages will have the same HTML structure or even contain the HTML element you are looking for. This is why it is necessary to build XPath expressions that are resistant to these variations and always check for possible cases where the result of scraping is an empty list."
   ]
  },
  {
   "cell_type": "code",
   "execution_count": 40,
   "metadata": {},
   "outputs": [],
   "source": [
    "df_spanish_movies_bechdel = pd.read_csv(\"def_wikipedia_spanish_movies_bechdel.csv\", dtype='str')"
   ]
  },
  {
   "cell_type": "code",
   "execution_count": 41,
   "metadata": {},
   "outputs": [],
   "source": [
    "imdb_movies_list = []\n",
    "imdbid_list = df_spanish_movies_bechdel[\"imdbid\"].to_list()\n",
    "for imdbid in imdbid_list:\n",
    "    imdb_movie_page = requests.get(f'https://www.imdb.com/title/tt{imdbid}/?ref_=fn_tt_tt_1')\n",
    "    imdb_movie_tree = html.fromstring(imdb_movie_page.content)\n",
    "    \n",
    "    # As mentioned above, XPath expressions are built to be resistant to variations and the response \n",
    "    # is always checked to ensure that it is not empty.\n",
    "    \n",
    "    rating_movie = imdb_movie_tree.xpath('(//span[@class=\"sc-7ab21ed2-1 jGRxWM\"])[1]/text()')\n",
    "    rating = rating_movie[0] if rating_movie else \"No rating\"\n",
    "    \n",
    "    genre_movie = imdb_movie_tree.xpath('(//span[@class=\"ipc-chip__text\"])[1]/text()')\n",
    "    genre = genre_movie[0] if genre_movie else \"No genre\"\n",
    "    \n",
    "    director_movie = imdb_movie_tree.xpath('(//a[@class=\"ipc-metadata-list-item__list-content-item ipc-metadata-list-item__list-content-item--link\"])[1]/text()')\n",
    "    director = director_movie[0] if director_movie else \"No director\"\n",
    "    \n",
    "    budget_movie = imdb_movie_tree.xpath('//span[text()=\"Budget\"]/following-sibling::div[1]/ul/li/span/text()')\n",
    "    budget = budget_movie[0].split(\" \")[0][1:] if budget_movie else \"No budget\"\n",
    "    \n",
    "    gross_movie = imdb_movie_tree.xpath('//span[text()=\"Gross worldwide\"]/following-sibling::div[1]/ul/li/span/text()')\n",
    "    gross = gross_movie[0].split(\" \")[0][1:] if gross_movie else \"No gross\"\n",
    "    \n",
    "    # Once all the necessary data has been obtained, a dictionary is compiled, which will be added to a list \n",
    "    # that will eventually contain the information on all the films.\n",
    "    # As mentioned in previous sections, these elements are added to a list instead of a data frame because it is \n",
    "    # much faster and later it will be enough to convert the list to a data frame.\n",
    "    \n",
    "    new_movie = {\"imdbid\": imdbid,\n",
    "                \"rating\": rating,\n",
    "                \"genre\": genre,\n",
    "                \"director\": director,\n",
    "                \"budget\": budget,\n",
    "                \"gross\": gross}\n",
    "    \n",
    "    imdb_movies_list.append(new_movie)\n",
    "\n",
    "imdb_movies_df = pd.DataFrame(imdb_movies_list)"
   ]
  },
  {
   "cell_type": "code",
   "execution_count": 42,
   "metadata": {},
   "outputs": [
    {
     "data": {
      "text/html": [
       "<div>\n",
       "<style scoped>\n",
       "    .dataframe tbody tr th:only-of-type {\n",
       "        vertical-align: middle;\n",
       "    }\n",
       "\n",
       "    .dataframe tbody tr th {\n",
       "        vertical-align: top;\n",
       "    }\n",
       "\n",
       "    .dataframe thead th {\n",
       "        text-align: right;\n",
       "    }\n",
       "</style>\n",
       "<table border=\"1\" class=\"dataframe\">\n",
       "  <thead>\n",
       "    <tr style=\"text-align: right;\">\n",
       "      <th></th>\n",
       "      <th>imdbid</th>\n",
       "      <th>rating</th>\n",
       "      <th>genre</th>\n",
       "      <th>director</th>\n",
       "      <th>budget</th>\n",
       "      <th>gross</th>\n",
       "    </tr>\n",
       "  </thead>\n",
       "  <tbody>\n",
       "    <tr>\n",
       "      <th>0</th>\n",
       "      <td>0088461</td>\n",
       "      <td>7.1</td>\n",
       "      <td>Comedy</td>\n",
       "      <td>Pedro Almodóvar</td>\n",
       "      <td>No budget</td>\n",
       "      <td>No gross</td>\n",
       "    </tr>\n",
       "    <tr>\n",
       "      <th>1</th>\n",
       "      <td>0809533</td>\n",
       "      <td>6.6</td>\n",
       "      <td>Drama</td>\n",
       "      <td>Emilio Martínez Lázaro</td>\n",
       "      <td>9,000,000</td>\n",
       "      <td>6,939,516</td>\n",
       "    </tr>\n",
       "    <tr>\n",
       "      <th>2</th>\n",
       "      <td>0421528</td>\n",
       "      <td>6.6</td>\n",
       "      <td>Comedy</td>\n",
       "      <td>Ramón Salazar</td>\n",
       "      <td>No budget</td>\n",
       "      <td>439,632</td>\n",
       "    </tr>\n",
       "    <tr>\n",
       "      <th>3</th>\n",
       "      <td>1600383</td>\n",
       "      <td>6.9</td>\n",
       "      <td>Drama</td>\n",
       "      <td>Jon Garaño</td>\n",
       "      <td>No budget</td>\n",
       "      <td>115,251</td>\n",
       "    </tr>\n",
       "    <tr>\n",
       "      <th>4</th>\n",
       "      <td>0306432</td>\n",
       "      <td>6.2</td>\n",
       "      <td>Comedy</td>\n",
       "      <td>Daniela Fejerman</td>\n",
       "      <td>No budget</td>\n",
       "      <td>2,447,070</td>\n",
       "    </tr>\n",
       "    <tr>\n",
       "      <th>...</th>\n",
       "      <td>...</td>\n",
       "      <td>...</td>\n",
       "      <td>...</td>\n",
       "      <td>...</td>\n",
       "      <td>...</td>\n",
       "      <td>...</td>\n",
       "    </tr>\n",
       "    <tr>\n",
       "      <th>118</th>\n",
       "      <td>5862312</td>\n",
       "      <td>6.2</td>\n",
       "      <td>Horror</td>\n",
       "      <td>Paco Plaza</td>\n",
       "      <td>No budget</td>\n",
       "      <td>6,123,089</td>\n",
       "    </tr>\n",
       "    <tr>\n",
       "      <th>119</th>\n",
       "      <td>2896036</td>\n",
       "      <td>7.0</td>\n",
       "      <td>Comedy</td>\n",
       "      <td>David Trueba</td>\n",
       "      <td>No budget</td>\n",
       "      <td>3,075,169</td>\n",
       "    </tr>\n",
       "    <tr>\n",
       "      <th>120</th>\n",
       "      <td>1847746</td>\n",
       "      <td>6.7</td>\n",
       "      <td>Drama</td>\n",
       "      <td>Lucía Puenzo</td>\n",
       "      <td>2,000,000</td>\n",
       "      <td>3,635,718</td>\n",
       "    </tr>\n",
       "    <tr>\n",
       "      <th>121</th>\n",
       "      <td>0995829</td>\n",
       "      <td>7.0</td>\n",
       "      <td>Drama</td>\n",
       "      <td>Lucía Puenzo</td>\n",
       "      <td>No budget</td>\n",
       "      <td>2,728,869</td>\n",
       "    </tr>\n",
       "    <tr>\n",
       "      <th>122</th>\n",
       "      <td>2388821</td>\n",
       "      <td>5.5</td>\n",
       "      <td>Adventure</td>\n",
       "      <td>Oskar Santos</td>\n",
       "      <td>No budget</td>\n",
       "      <td>7,242,828</td>\n",
       "    </tr>\n",
       "  </tbody>\n",
       "</table>\n",
       "<p>123 rows × 6 columns</p>\n",
       "</div>"
      ],
      "text/plain": [
       "      imdbid rating      genre                director     budget      gross\n",
       "0    0088461    7.1     Comedy         Pedro Almodóvar  No budget   No gross\n",
       "1    0809533    6.6      Drama  Emilio Martínez Lázaro  9,000,000  6,939,516\n",
       "2    0421528    6.6     Comedy           Ramón Salazar  No budget    439,632\n",
       "3    1600383    6.9      Drama              Jon Garaño  No budget    115,251\n",
       "4    0306432    6.2     Comedy        Daniela Fejerman  No budget  2,447,070\n",
       "..       ...    ...        ...                     ...        ...        ...\n",
       "118  5862312    6.2     Horror              Paco Plaza  No budget  6,123,089\n",
       "119  2896036    7.0     Comedy            David Trueba  No budget  3,075,169\n",
       "120  1847746    6.7      Drama            Lucía Puenzo  2,000,000  3,635,718\n",
       "121  0995829    7.0      Drama            Lucía Puenzo  No budget  2,728,869\n",
       "122  2388821    5.5  Adventure            Oskar Santos  No budget  7,242,828\n",
       "\n",
       "[123 rows x 6 columns]"
      ]
     },
     "execution_count": 42,
     "metadata": {},
     "output_type": "execute_result"
    }
   ],
   "source": [
    "imdb_movies_df"
   ]
  },
  {
   "cell_type": "code",
   "execution_count": 46,
   "metadata": {},
   "outputs": [],
   "source": [
    "# Commas are removed from numbers to avoid problems with writing and reading data in CSV format.\n",
    "imdb_movies_df = imdb_movies_df.apply(lambda x: x.str.replace(',',''))"
   ]
  },
  {
   "cell_type": "code",
   "execution_count": 48,
   "metadata": {},
   "outputs": [],
   "source": [
    "imdb_movies_df.to_csv(\"spanish_movies_data.csv\", index=False)"
   ]
  }
 ],
 "metadata": {
  "kernelspec": {
   "display_name": "Python 3",
   "language": "python",
   "name": "python3"
  },
  "language_info": {
   "codemirror_mode": {
    "name": "ipython",
    "version": 3
   },
   "file_extension": ".py",
   "mimetype": "text/x-python",
   "name": "python",
   "nbconvert_exporter": "python",
   "pygments_lexer": "ipython3",
   "version": "3.8.5"
  }
 },
 "nbformat": 4,
 "nbformat_minor": 4
}
