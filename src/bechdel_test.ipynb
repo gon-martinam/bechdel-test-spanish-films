{
 "cells": [
  {
   "cell_type": "markdown",
   "metadata": {},
   "source": [
    "# Imports"
   ]
  },
  {
   "cell_type": "code",
   "execution_count": 392,
   "metadata": {},
   "outputs": [],
   "source": [
    "import pandas as pd\n",
    "import gender_guesser.detector as gender\n",
    "\n",
    "# Visualisations\n",
    "import seaborn as sns\n",
    "from plotnine import *"
   ]
  },
  {
   "cell_type": "markdown",
   "metadata": {},
   "source": [
    "# Getting the data"
   ]
  },
  {
   "cell_type": "markdown",
   "metadata": {},
   "source": [
    "## Movies produced in Spain"
   ]
  },
  {
   "cell_type": "code",
   "execution_count": 463,
   "metadata": {},
   "outputs": [],
   "source": [
    "df_spanish_movies_bechdel = pd.read_csv(\"def_wikipedia_spanish_movies_bechdel.csv\", dtype='str')"
   ]
  },
  {
   "cell_type": "code",
   "execution_count": 464,
   "metadata": {},
   "outputs": [],
   "source": [
    "df_spanish_movies_bechdel.drop(columns=['index', 'status', 'version', 'description'], inplace=True)"
   ]
  },
  {
   "cell_type": "code",
   "execution_count": 465,
   "metadata": {},
   "outputs": [
    {
     "data": {
      "text/html": [
       "<div>\n",
       "<style scoped>\n",
       "    .dataframe tbody tr th:only-of-type {\n",
       "        vertical-align: middle;\n",
       "    }\n",
       "\n",
       "    .dataframe tbody tr th {\n",
       "        vertical-align: top;\n",
       "    }\n",
       "\n",
       "    .dataframe thead th {\n",
       "        text-align: right;\n",
       "    }\n",
       "</style>\n",
       "<table border=\"1\" class=\"dataframe\">\n",
       "  <thead>\n",
       "    <tr style=\"text-align: right;\">\n",
       "      <th></th>\n",
       "      <th>date</th>\n",
       "      <th>dubious</th>\n",
       "      <th>year</th>\n",
       "      <th>visible</th>\n",
       "      <th>rating</th>\n",
       "      <th>title</th>\n",
       "      <th>submitterid</th>\n",
       "      <th>id</th>\n",
       "      <th>imdbid</th>\n",
       "    </tr>\n",
       "  </thead>\n",
       "  <tbody>\n",
       "    <tr>\n",
       "      <th>0</th>\n",
       "      <td>2010-09-20 14:03:37</td>\n",
       "      <td>0</td>\n",
       "      <td>1984.0</td>\n",
       "      <td>1</td>\n",
       "      <td>3.0</td>\n",
       "      <td>What Have I Done to Deserve This?</td>\n",
       "      <td>1917.0</td>\n",
       "      <td>1582.0</td>\n",
       "      <td>0088461</td>\n",
       "    </tr>\n",
       "    <tr>\n",
       "      <th>1</th>\n",
       "      <td>2016-08-29 21:07:49</td>\n",
       "      <td>0</td>\n",
       "      <td>2007.0</td>\n",
       "      <td>1</td>\n",
       "      <td>3.0</td>\n",
       "      <td>Las 13 rosas</td>\n",
       "      <td>13899.0</td>\n",
       "      <td>7079.0</td>\n",
       "      <td>0809533</td>\n",
       "    </tr>\n",
       "    <tr>\n",
       "      <th>2</th>\n",
       "      <td>2013-09-30 07:26:05</td>\n",
       "      <td>0</td>\n",
       "      <td>2005.0</td>\n",
       "      <td>1</td>\n",
       "      <td>3.0</td>\n",
       "      <td>20 centimetros</td>\n",
       "      <td>8387.0</td>\n",
       "      <td>4648.0</td>\n",
       "      <td>0421528</td>\n",
       "    </tr>\n",
       "    <tr>\n",
       "      <th>3</th>\n",
       "      <td>2011-04-17 13:15:29</td>\n",
       "      <td>0</td>\n",
       "      <td>2010.0</td>\n",
       "      <td>1</td>\n",
       "      <td>3.0</td>\n",
       "      <td>For 80 Days</td>\n",
       "      <td>3070.0</td>\n",
       "      <td>2192.0</td>\n",
       "      <td>1600383</td>\n",
       "    </tr>\n",
       "    <tr>\n",
       "      <th>4</th>\n",
       "      <td>2017-05-21 15:24:52</td>\n",
       "      <td>0</td>\n",
       "      <td>2002.0</td>\n",
       "      <td>1</td>\n",
       "      <td>3.0</td>\n",
       "      <td>A mi madre le gustan las mujeres</td>\n",
       "      <td>14890.0</td>\n",
       "      <td>7649.0</td>\n",
       "      <td>0306432</td>\n",
       "    </tr>\n",
       "    <tr>\n",
       "      <th>...</th>\n",
       "      <td>...</td>\n",
       "      <td>...</td>\n",
       "      <td>...</td>\n",
       "      <td>...</td>\n",
       "      <td>...</td>\n",
       "      <td>...</td>\n",
       "      <td>...</td>\n",
       "      <td>...</td>\n",
       "      <td>...</td>\n",
       "    </tr>\n",
       "    <tr>\n",
       "      <th>118</th>\n",
       "      <td>2018-01-06 23:15:46</td>\n",
       "      <td>0</td>\n",
       "      <td>2017.0</td>\n",
       "      <td>1</td>\n",
       "      <td>3.0</td>\n",
       "      <td>Veronica</td>\n",
       "      <td>15613.0</td>\n",
       "      <td>7985.0</td>\n",
       "      <td>5862312</td>\n",
       "    </tr>\n",
       "    <tr>\n",
       "      <th>119</th>\n",
       "      <td>2014-03-15 16:44:43</td>\n",
       "      <td>0</td>\n",
       "      <td>2013.0</td>\n",
       "      <td>1</td>\n",
       "      <td>0.0</td>\n",
       "      <td>Vivir es facil con los ojos cerrados</td>\n",
       "      <td>9671.0</td>\n",
       "      <td>5283.0</td>\n",
       "      <td>2896036</td>\n",
       "    </tr>\n",
       "    <tr>\n",
       "      <th>120</th>\n",
       "      <td>2014-08-24 19:48:57</td>\n",
       "      <td>0</td>\n",
       "      <td>2013.0</td>\n",
       "      <td>1</td>\n",
       "      <td>3.0</td>\n",
       "      <td>The German Doctor</td>\n",
       "      <td>10733.0</td>\n",
       "      <td>5714.0</td>\n",
       "      <td>1847746</td>\n",
       "    </tr>\n",
       "    <tr>\n",
       "      <th>121</th>\n",
       "      <td>2010-09-08 11:41:30</td>\n",
       "      <td>0</td>\n",
       "      <td>2007.0</td>\n",
       "      <td>1</td>\n",
       "      <td>3.0</td>\n",
       "      <td>XXY</td>\n",
       "      <td>1859.0</td>\n",
       "      <td>1552.0</td>\n",
       "      <td>0995829</td>\n",
       "    </tr>\n",
       "    <tr>\n",
       "      <th>122</th>\n",
       "      <td>2014-03-03 21:00:18</td>\n",
       "      <td>0</td>\n",
       "      <td>2013.0</td>\n",
       "      <td>1</td>\n",
       "      <td>0.0</td>\n",
       "      <td>Zipi y Zape y el club de la canica</td>\n",
       "      <td>9573.0</td>\n",
       "      <td>5225.0</td>\n",
       "      <td>2388821</td>\n",
       "    </tr>\n",
       "  </tbody>\n",
       "</table>\n",
       "<p>123 rows × 9 columns</p>\n",
       "</div>"
      ],
      "text/plain": [
       "                    date dubious    year visible rating  \\\n",
       "0    2010-09-20 14:03:37       0  1984.0       1    3.0   \n",
       "1    2016-08-29 21:07:49       0  2007.0       1    3.0   \n",
       "2    2013-09-30 07:26:05       0  2005.0       1    3.0   \n",
       "3    2011-04-17 13:15:29       0  2010.0       1    3.0   \n",
       "4    2017-05-21 15:24:52       0  2002.0       1    3.0   \n",
       "..                   ...     ...     ...     ...    ...   \n",
       "118  2018-01-06 23:15:46       0  2017.0       1    3.0   \n",
       "119  2014-03-15 16:44:43       0  2013.0       1    0.0   \n",
       "120  2014-08-24 19:48:57       0  2013.0       1    3.0   \n",
       "121  2010-09-08 11:41:30       0  2007.0       1    3.0   \n",
       "122  2014-03-03 21:00:18       0  2013.0       1    0.0   \n",
       "\n",
       "                                    title submitterid      id   imdbid  \n",
       "0       What Have I Done to Deserve This?      1917.0  1582.0  0088461  \n",
       "1                            Las 13 rosas     13899.0  7079.0  0809533  \n",
       "2                          20 centimetros      8387.0  4648.0  0421528  \n",
       "3                             For 80 Days      3070.0  2192.0  1600383  \n",
       "4        A mi madre le gustan las mujeres     14890.0  7649.0  0306432  \n",
       "..                                    ...         ...     ...      ...  \n",
       "118                              Veronica     15613.0  7985.0  5862312  \n",
       "119  Vivir es facil con los ojos cerrados      9671.0  5283.0  2896036  \n",
       "120                     The German Doctor     10733.0  5714.0  1847746  \n",
       "121                                   XXY      1859.0  1552.0  0995829  \n",
       "122    Zipi y Zape y el club de la canica      9573.0  5225.0  2388821  \n",
       "\n",
       "[123 rows x 9 columns]"
      ]
     },
     "execution_count": 465,
     "metadata": {},
     "output_type": "execute_result"
    }
   ],
   "source": [
    "df_spanish_movies_bechdel"
   ]
  },
  {
   "cell_type": "markdown",
   "metadata": {},
   "source": [
    "Since we've read the CSV file as string type in order not to lose any information related to the IMDb ID (because if it's read as a integer and it has 0s at the beggining, they'll be omitted), we need to modify the type of the columns \"year\" and \"rating\" so we'll be able to work with them."
   ]
  },
  {
   "cell_type": "code",
   "execution_count": 466,
   "metadata": {},
   "outputs": [],
   "source": [
    "df_spanish_movies_bechdel['year'] = df_spanish_movies_bechdel['year'].astype(float)\n",
    "df_spanish_movies_bechdel['rating'] = df_spanish_movies_bechdel['rating'].astype(float)"
   ]
  },
  {
   "cell_type": "markdown",
   "metadata": {},
   "source": [
    "Let's rename the column \"rating\" to \"Bechdel Score\" so it's clearer what we're talking about."
   ]
  },
  {
   "cell_type": "code",
   "execution_count": 467,
   "metadata": {},
   "outputs": [],
   "source": [
    "df_spanish_movies_bechdel.rename(columns={'rating':'Bechdel Score'}, inplace=True)"
   ]
  },
  {
   "cell_type": "markdown",
   "metadata": {},
   "source": [
    "Let's convert the variable year into a DateTime object."
   ]
  },
  {
   "cell_type": "code",
   "execution_count": 468,
   "metadata": {},
   "outputs": [],
   "source": [
    "df_spanish_movies_bechdel['year'] = pd.to_datetime(df_spanish_movies_bechdel['year'], format='%Y')"
   ]
  },
  {
   "cell_type": "markdown",
   "metadata": {},
   "source": [
    "Next, I will change the Bechdel Scores to categorical variables."
   ]
  },
  {
   "cell_type": "code",
   "execution_count": 469,
   "metadata": {},
   "outputs": [],
   "source": [
    "df_spanish_movies_bechdel['Bechdel Score'] = df_spanish_movies_bechdel['Bechdel Score'].astype('category', copy=False)"
   ]
  },
  {
   "cell_type": "markdown",
   "metadata": {},
   "source": [
    "Finally, the data is prepared and can be used to do some data visualization.\n",
    "\n",
    "Let's create a count plot using Seaborn, to visualize the Bechdel scores."
   ]
  },
  {
   "cell_type": "code",
   "execution_count": 470,
   "metadata": {},
   "outputs": [
    {
     "data": {
      "text/plain": [
       "<AxesSubplot:xlabel='Bechdel Score', ylabel='count'>"
      ]
     },
     "execution_count": 470,
     "metadata": {},
     "output_type": "execute_result"
    },
    {
     "data": {
      "image/png": "[encoded data removed]",
      "text/plain": [
       "<Figure size 432x288 with 1 Axes>"
      ]
     },
     "metadata": {
      "needs_background": "light"
     },
     "output_type": "display_data"
    }
   ],
   "source": [
    "sns.countplot(x='Bechdel Score', data=df_spanish_movies_bechdel)"
   ]
  },
  {
   "cell_type": "markdown",
   "metadata": {},
   "source": [
    "As can be seen, most Spanish films score highly in the Bechdel test, but how many of them pass the test completely?"
   ]
  },
  {
   "cell_type": "code",
   "execution_count": 471,
   "metadata": {},
   "outputs": [
    {
     "data": {
      "text/html": [
       "<div>\n",
       "<style scoped>\n",
       "    .dataframe tbody tr th:only-of-type {\n",
       "        vertical-align: middle;\n",
       "    }\n",
       "\n",
       "    .dataframe tbody tr th {\n",
       "        vertical-align: top;\n",
       "    }\n",
       "\n",
       "    .dataframe thead th {\n",
       "        text-align: right;\n",
       "    }\n",
       "</style>\n",
       "<table border=\"1\" class=\"dataframe\">\n",
       "  <thead>\n",
       "    <tr style=\"text-align: right;\">\n",
       "      <th></th>\n",
       "      <th>date</th>\n",
       "      <th>dubious</th>\n",
       "      <th>year</th>\n",
       "      <th>visible</th>\n",
       "      <th>Bechdel Score</th>\n",
       "      <th>title</th>\n",
       "      <th>submitterid</th>\n",
       "      <th>id</th>\n",
       "      <th>imdbid</th>\n",
       "      <th>pass_test</th>\n",
       "    </tr>\n",
       "  </thead>\n",
       "  <tbody>\n",
       "    <tr>\n",
       "      <th>0</th>\n",
       "      <td>2010-09-20 14:03:37</td>\n",
       "      <td>0</td>\n",
       "      <td>1984-01-01</td>\n",
       "      <td>1</td>\n",
       "      <td>3.0</td>\n",
       "      <td>What Have I Done to Deserve This?</td>\n",
       "      <td>1917.0</td>\n",
       "      <td>1582.0</td>\n",
       "      <td>0088461</td>\n",
       "      <td>1</td>\n",
       "    </tr>\n",
       "    <tr>\n",
       "      <th>1</th>\n",
       "      <td>2016-08-29 21:07:49</td>\n",
       "      <td>0</td>\n",
       "      <td>2007-01-01</td>\n",
       "      <td>1</td>\n",
       "      <td>3.0</td>\n",
       "      <td>Las 13 rosas</td>\n",
       "      <td>13899.0</td>\n",
       "      <td>7079.0</td>\n",
       "      <td>0809533</td>\n",
       "      <td>1</td>\n",
       "    </tr>\n",
       "    <tr>\n",
       "      <th>2</th>\n",
       "      <td>2013-09-30 07:26:05</td>\n",
       "      <td>0</td>\n",
       "      <td>2005-01-01</td>\n",
       "      <td>1</td>\n",
       "      <td>3.0</td>\n",
       "      <td>20 centimetros</td>\n",
       "      <td>8387.0</td>\n",
       "      <td>4648.0</td>\n",
       "      <td>0421528</td>\n",
       "      <td>1</td>\n",
       "    </tr>\n",
       "    <tr>\n",
       "      <th>3</th>\n",
       "      <td>2011-04-17 13:15:29</td>\n",
       "      <td>0</td>\n",
       "      <td>2010-01-01</td>\n",
       "      <td>1</td>\n",
       "      <td>3.0</td>\n",
       "      <td>For 80 Days</td>\n",
       "      <td>3070.0</td>\n",
       "      <td>2192.0</td>\n",
       "      <td>1600383</td>\n",
       "      <td>1</td>\n",
       "    </tr>\n",
       "    <tr>\n",
       "      <th>4</th>\n",
       "      <td>2017-05-21 15:24:52</td>\n",
       "      <td>0</td>\n",
       "      <td>2002-01-01</td>\n",
       "      <td>1</td>\n",
       "      <td>3.0</td>\n",
       "      <td>A mi madre le gustan las mujeres</td>\n",
       "      <td>14890.0</td>\n",
       "      <td>7649.0</td>\n",
       "      <td>0306432</td>\n",
       "      <td>1</td>\n",
       "    </tr>\n",
       "    <tr>\n",
       "      <th>...</th>\n",
       "      <td>...</td>\n",
       "      <td>...</td>\n",
       "      <td>...</td>\n",
       "      <td>...</td>\n",
       "      <td>...</td>\n",
       "      <td>...</td>\n",
       "      <td>...</td>\n",
       "      <td>...</td>\n",
       "      <td>...</td>\n",
       "      <td>...</td>\n",
       "    </tr>\n",
       "    <tr>\n",
       "      <th>118</th>\n",
       "      <td>2018-01-06 23:15:46</td>\n",
       "      <td>0</td>\n",
       "      <td>2017-01-01</td>\n",
       "      <td>1</td>\n",
       "      <td>3.0</td>\n",
       "      <td>Veronica</td>\n",
       "      <td>15613.0</td>\n",
       "      <td>7985.0</td>\n",
       "      <td>5862312</td>\n",
       "      <td>1</td>\n",
       "    </tr>\n",
       "    <tr>\n",
       "      <th>119</th>\n",
       "      <td>2014-03-15 16:44:43</td>\n",
       "      <td>0</td>\n",
       "      <td>2013-01-01</td>\n",
       "      <td>1</td>\n",
       "      <td>0.0</td>\n",
       "      <td>Vivir es facil con los ojos cerrados</td>\n",
       "      <td>9671.0</td>\n",
       "      <td>5283.0</td>\n",
       "      <td>2896036</td>\n",
       "      <td>0</td>\n",
       "    </tr>\n",
       "    <tr>\n",
       "      <th>120</th>\n",
       "      <td>2014-08-24 19:48:57</td>\n",
       "      <td>0</td>\n",
       "      <td>2013-01-01</td>\n",
       "      <td>1</td>\n",
       "      <td>3.0</td>\n",
       "      <td>The German Doctor</td>\n",
       "      <td>10733.0</td>\n",
       "      <td>5714.0</td>\n",
       "      <td>1847746</td>\n",
       "      <td>1</td>\n",
       "    </tr>\n",
       "    <tr>\n",
       "      <th>121</th>\n",
       "      <td>2010-09-08 11:41:30</td>\n",
       "      <td>0</td>\n",
       "      <td>2007-01-01</td>\n",
       "      <td>1</td>\n",
       "      <td>3.0</td>\n",
       "      <td>XXY</td>\n",
       "      <td>1859.0</td>\n",
       "      <td>1552.0</td>\n",
       "      <td>0995829</td>\n",
       "      <td>1</td>\n",
       "    </tr>\n",
       "    <tr>\n",
       "      <th>122</th>\n",
       "      <td>2014-03-03 21:00:18</td>\n",
       "      <td>0</td>\n",
       "      <td>2013-01-01</td>\n",
       "      <td>1</td>\n",
       "      <td>0.0</td>\n",
       "      <td>Zipi y Zape y el club de la canica</td>\n",
       "      <td>9573.0</td>\n",
       "      <td>5225.0</td>\n",
       "      <td>2388821</td>\n",
       "      <td>0</td>\n",
       "    </tr>\n",
       "  </tbody>\n",
       "</table>\n",
       "<p>123 rows × 10 columns</p>\n",
       "</div>"
      ],
      "text/plain": [
       "                    date dubious       year visible Bechdel Score  \\\n",
       "0    2010-09-20 14:03:37       0 1984-01-01       1           3.0   \n",
       "1    2016-08-29 21:07:49       0 2007-01-01       1           3.0   \n",
       "2    2013-09-30 07:26:05       0 2005-01-01       1           3.0   \n",
       "3    2011-04-17 13:15:29       0 2010-01-01       1           3.0   \n",
       "4    2017-05-21 15:24:52       0 2002-01-01       1           3.0   \n",
       "..                   ...     ...        ...     ...           ...   \n",
       "118  2018-01-06 23:15:46       0 2017-01-01       1           3.0   \n",
       "119  2014-03-15 16:44:43       0 2013-01-01       1           0.0   \n",
       "120  2014-08-24 19:48:57       0 2013-01-01       1           3.0   \n",
       "121  2010-09-08 11:41:30       0 2007-01-01       1           3.0   \n",
       "122  2014-03-03 21:00:18       0 2013-01-01       1           0.0   \n",
       "\n",
       "                                    title submitterid      id   imdbid  \\\n",
       "0       What Have I Done to Deserve This?      1917.0  1582.0  0088461   \n",
       "1                            Las 13 rosas     13899.0  7079.0  0809533   \n",
       "2                          20 centimetros      8387.0  4648.0  0421528   \n",
       "3                             For 80 Days      3070.0  2192.0  1600383   \n",
       "4        A mi madre le gustan las mujeres     14890.0  7649.0  0306432   \n",
       "..                                    ...         ...     ...      ...   \n",
       "118                              Veronica     15613.0  7985.0  5862312   \n",
       "119  Vivir es facil con los ojos cerrados      9671.0  5283.0  2896036   \n",
       "120                     The German Doctor     10733.0  5714.0  1847746   \n",
       "121                                   XXY      1859.0  1552.0  0995829   \n",
       "122    Zipi y Zape y el club de la canica      9573.0  5225.0  2388821   \n",
       "\n",
       "     pass_test  \n",
       "0            1  \n",
       "1            1  \n",
       "2            1  \n",
       "3            1  \n",
       "4            1  \n",
       "..         ...  \n",
       "118          1  \n",
       "119          0  \n",
       "120          1  \n",
       "121          1  \n",
       "122          0  \n",
       "\n",
       "[123 rows x 10 columns]"
      ]
     },
     "execution_count": 471,
     "metadata": {},
     "output_type": "execute_result"
    }
   ],
   "source": [
    "li = []\n",
    "for i in df_spanish_movies_bechdel['Bechdel Score']:\n",
    "    if(i < 3):\n",
    "        li.append(0)\n",
    "    else:\n",
    "        li.append(1)\n",
    "df_spanish_movies_bechdel['pass_test'] = li\n",
    "df_spanish_movies_bechdel"
   ]
  },
  {
   "cell_type": "markdown",
   "metadata": {},
   "source": [
    "Now, there is a column called pass_test, with a value of 1 for all the movies that pass the Bechdel test, and a value of 0 for the movies that don’t.\n",
    "\n",
    "Let's visualize this using Seaborn."
   ]
  },
  {
   "cell_type": "code",
   "execution_count": 472,
   "metadata": {},
   "outputs": [
    {
     "data": {
      "text/plain": [
       "<AxesSubplot:xlabel='pass_test', ylabel='count'>"
      ]
     },
     "execution_count": 472,
     "metadata": {},
     "output_type": "execute_result"
    },
    {
     "data": {
      "image/png": "[encoded data removed]",
      "text/plain": [
       "<Figure size 432x288 with 1 Axes>"
      ]
     },
     "metadata": {
      "needs_background": "light"
     },
     "output_type": "display_data"
    }
   ],
   "source": [
    "sns.countplot(x='pass_test', data=df_spanish_movies_bechdel)"
   ]
  },
  {
   "cell_type": "markdown",
   "metadata": {},
   "source": [
    "After this change, it is possible to observe that not so many Spanish films pass the Bechdel test.\n",
    "\n",
    "However, this difference is not as significant as it could be. There still seems to be a very large number of movies that didn’t pass the test."
   ]
  },
  {
   "cell_type": "markdown",
   "metadata": {},
   "source": [
    "## How have Bechdel scores changed with time?"
   ]
  },
  {
   "cell_type": "markdown",
   "metadata": {},
   "source": [
    "Has there been an improvement in the representation of women in the film industry? Are things still the same? Did they get worse?"
   ]
  },
  {
   "cell_type": "code",
   "execution_count": 473,
   "metadata": {},
   "outputs": [
    {
     "data": {
      "image/png": "[encoded data removed]",
      "text/plain": [
       "<Figure size 640x480 with 1 Axes>"
      ]
     },
     "metadata": {},
     "output_type": "display_data"
    },
    {
     "data": {
      "text/plain": [
       "<ggplot: (8772438149247)>"
      ]
     },
     "execution_count": 473,
     "metadata": {},
     "output_type": "execute_result"
    }
   ],
   "source": [
    "(ggplot(df_spanish_movies_bechdel)+\n",
    " geom_point(aes('year',color=df_spanish_movies_bechdel['Bechdel Score']),stat='count',show_legend=False)+\n",
    " geom_line(aes('year',color=df_spanish_movies_bechdel['Bechdel Score']),stat='count',show_legend=False))"
   ]
  },
  {
   "cell_type": "markdown",
   "metadata": {},
   "source": [
    "It could be said that, until the 2000s, few films passed the Bechdel test. During this time, there was no significant difference between movies that passed the test and movies that didn’t.\n",
    "\n",
    "The years between the 2000s and 2010s saw a spike in the number of movies that passed the Bechdel test, and there is massive improvement going into the 21st century."
   ]
  },
  {
   "cell_type": "markdown",
   "metadata": {},
   "source": [
    "## Analysing the relationship between IMDb rating and the Bechdel scores"
   ]
  },
  {
   "cell_type": "markdown",
   "metadata": {},
   "source": [
    "For this and subsequent analyses we will make use of the other generated CSV file \"spanish_movies_data.csv\", which contains relevant information on all films (IMDb rating, genre, director, budget and gross).\n",
    "\n",
    "We'll merge it with the existing data frame."
   ]
  },
  {
   "cell_type": "code",
   "execution_count": 478,
   "metadata": {},
   "outputs": [
    {
     "data": {
      "text/html": [
       "<div>\n",
       "<style scoped>\n",
       "    .dataframe tbody tr th:only-of-type {\n",
       "        vertical-align: middle;\n",
       "    }\n",
       "\n",
       "    .dataframe tbody tr th {\n",
       "        vertical-align: top;\n",
       "    }\n",
       "\n",
       "    .dataframe thead th {\n",
       "        text-align: right;\n",
       "    }\n",
       "</style>\n",
       "<table border=\"1\" class=\"dataframe\">\n",
       "  <thead>\n",
       "    <tr style=\"text-align: right;\">\n",
       "      <th></th>\n",
       "      <th>date</th>\n",
       "      <th>dubious</th>\n",
       "      <th>year</th>\n",
       "      <th>visible</th>\n",
       "      <th>Bechdel Score</th>\n",
       "      <th>title</th>\n",
       "      <th>submitterid</th>\n",
       "      <th>id</th>\n",
       "      <th>imdbid</th>\n",
       "      <th>pass_test</th>\n",
       "      <th>rating</th>\n",
       "      <th>genre</th>\n",
       "      <th>director</th>\n",
       "      <th>budget</th>\n",
       "      <th>gross</th>\n",
       "    </tr>\n",
       "  </thead>\n",
       "  <tbody>\n",
       "    <tr>\n",
       "      <th>0</th>\n",
       "      <td>2010-09-20 14:03:37</td>\n",
       "      <td>0</td>\n",
       "      <td>1984-01-01</td>\n",
       "      <td>1</td>\n",
       "      <td>3.0</td>\n",
       "      <td>What Have I Done to Deserve This?</td>\n",
       "      <td>1917.0</td>\n",
       "      <td>1582.0</td>\n",
       "      <td>0088461</td>\n",
       "      <td>1</td>\n",
       "      <td>7.1</td>\n",
       "      <td>Comedy</td>\n",
       "      <td>Pedro Almodóvar</td>\n",
       "      <td>No budget</td>\n",
       "      <td>No gross</td>\n",
       "    </tr>\n",
       "    <tr>\n",
       "      <th>1</th>\n",
       "      <td>2016-08-29 21:07:49</td>\n",
       "      <td>0</td>\n",
       "      <td>2007-01-01</td>\n",
       "      <td>1</td>\n",
       "      <td>3.0</td>\n",
       "      <td>Las 13 rosas</td>\n",
       "      <td>13899.0</td>\n",
       "      <td>7079.0</td>\n",
       "      <td>0809533</td>\n",
       "      <td>1</td>\n",
       "      <td>6.6</td>\n",
       "      <td>Drama</td>\n",
       "      <td>Emilio Martínez Lázaro</td>\n",
       "      <td>9000000</td>\n",
       "      <td>6939516</td>\n",
       "    </tr>\n",
       "    <tr>\n",
       "      <th>2</th>\n",
       "      <td>2013-09-30 07:26:05</td>\n",
       "      <td>0</td>\n",
       "      <td>2005-01-01</td>\n",
       "      <td>1</td>\n",
       "      <td>3.0</td>\n",
       "      <td>20 centimetros</td>\n",
       "      <td>8387.0</td>\n",
       "      <td>4648.0</td>\n",
       "      <td>0421528</td>\n",
       "      <td>1</td>\n",
       "      <td>6.6</td>\n",
       "      <td>Comedy</td>\n",
       "      <td>Ramón Salazar</td>\n",
       "      <td>No budget</td>\n",
       "      <td>439632</td>\n",
       "    </tr>\n",
       "    <tr>\n",
       "      <th>3</th>\n",
       "      <td>2011-04-17 13:15:29</td>\n",
       "      <td>0</td>\n",
       "      <td>2010-01-01</td>\n",
       "      <td>1</td>\n",
       "      <td>3.0</td>\n",
       "      <td>For 80 Days</td>\n",
       "      <td>3070.0</td>\n",
       "      <td>2192.0</td>\n",
       "      <td>1600383</td>\n",
       "      <td>1</td>\n",
       "      <td>6.9</td>\n",
       "      <td>Drama</td>\n",
       "      <td>Jon Garaño</td>\n",
       "      <td>No budget</td>\n",
       "      <td>115251</td>\n",
       "    </tr>\n",
       "    <tr>\n",
       "      <th>4</th>\n",
       "      <td>2017-05-21 15:24:52</td>\n",
       "      <td>0</td>\n",
       "      <td>2002-01-01</td>\n",
       "      <td>1</td>\n",
       "      <td>3.0</td>\n",
       "      <td>A mi madre le gustan las mujeres</td>\n",
       "      <td>14890.0</td>\n",
       "      <td>7649.0</td>\n",
       "      <td>0306432</td>\n",
       "      <td>1</td>\n",
       "      <td>6.2</td>\n",
       "      <td>Comedy</td>\n",
       "      <td>Daniela Fejerman</td>\n",
       "      <td>No budget</td>\n",
       "      <td>2447070</td>\n",
       "    </tr>\n",
       "    <tr>\n",
       "      <th>...</th>\n",
       "      <td>...</td>\n",
       "      <td>...</td>\n",
       "      <td>...</td>\n",
       "      <td>...</td>\n",
       "      <td>...</td>\n",
       "      <td>...</td>\n",
       "      <td>...</td>\n",
       "      <td>...</td>\n",
       "      <td>...</td>\n",
       "      <td>...</td>\n",
       "      <td>...</td>\n",
       "      <td>...</td>\n",
       "      <td>...</td>\n",
       "      <td>...</td>\n",
       "      <td>...</td>\n",
       "    </tr>\n",
       "    <tr>\n",
       "      <th>118</th>\n",
       "      <td>2018-01-06 23:15:46</td>\n",
       "      <td>0</td>\n",
       "      <td>2017-01-01</td>\n",
       "      <td>1</td>\n",
       "      <td>3.0</td>\n",
       "      <td>Veronica</td>\n",
       "      <td>15613.0</td>\n",
       "      <td>7985.0</td>\n",
       "      <td>5862312</td>\n",
       "      <td>1</td>\n",
       "      <td>6.2</td>\n",
       "      <td>Horror</td>\n",
       "      <td>Paco Plaza</td>\n",
       "      <td>No budget</td>\n",
       "      <td>6123089</td>\n",
       "    </tr>\n",
       "    <tr>\n",
       "      <th>119</th>\n",
       "      <td>2014-03-15 16:44:43</td>\n",
       "      <td>0</td>\n",
       "      <td>2013-01-01</td>\n",
       "      <td>1</td>\n",
       "      <td>0.0</td>\n",
       "      <td>Vivir es facil con los ojos cerrados</td>\n",
       "      <td>9671.0</td>\n",
       "      <td>5283.0</td>\n",
       "      <td>2896036</td>\n",
       "      <td>0</td>\n",
       "      <td>7.0</td>\n",
       "      <td>Comedy</td>\n",
       "      <td>David Trueba</td>\n",
       "      <td>No budget</td>\n",
       "      <td>3075169</td>\n",
       "    </tr>\n",
       "    <tr>\n",
       "      <th>120</th>\n",
       "      <td>2014-08-24 19:48:57</td>\n",
       "      <td>0</td>\n",
       "      <td>2013-01-01</td>\n",
       "      <td>1</td>\n",
       "      <td>3.0</td>\n",
       "      <td>The German Doctor</td>\n",
       "      <td>10733.0</td>\n",
       "      <td>5714.0</td>\n",
       "      <td>1847746</td>\n",
       "      <td>1</td>\n",
       "      <td>6.7</td>\n",
       "      <td>Drama</td>\n",
       "      <td>Lucía Puenzo</td>\n",
       "      <td>2000000</td>\n",
       "      <td>3635718</td>\n",
       "    </tr>\n",
       "    <tr>\n",
       "      <th>121</th>\n",
       "      <td>2010-09-08 11:41:30</td>\n",
       "      <td>0</td>\n",
       "      <td>2007-01-01</td>\n",
       "      <td>1</td>\n",
       "      <td>3.0</td>\n",
       "      <td>XXY</td>\n",
       "      <td>1859.0</td>\n",
       "      <td>1552.0</td>\n",
       "      <td>0995829</td>\n",
       "      <td>1</td>\n",
       "      <td>7.0</td>\n",
       "      <td>Drama</td>\n",
       "      <td>Lucía Puenzo</td>\n",
       "      <td>No budget</td>\n",
       "      <td>2728869</td>\n",
       "    </tr>\n",
       "    <tr>\n",
       "      <th>122</th>\n",
       "      <td>2014-03-03 21:00:18</td>\n",
       "      <td>0</td>\n",
       "      <td>2013-01-01</td>\n",
       "      <td>1</td>\n",
       "      <td>0.0</td>\n",
       "      <td>Zipi y Zape y el club de la canica</td>\n",
       "      <td>9573.0</td>\n",
       "      <td>5225.0</td>\n",
       "      <td>2388821</td>\n",
       "      <td>0</td>\n",
       "      <td>5.5</td>\n",
       "      <td>Adventure</td>\n",
       "      <td>Oskar Santos</td>\n",
       "      <td>No budget</td>\n",
       "      <td>7242828</td>\n",
       "    </tr>\n",
       "  </tbody>\n",
       "</table>\n",
       "<p>123 rows × 15 columns</p>\n",
       "</div>"
      ],
      "text/plain": [
       "                    date dubious       year visible Bechdel Score  \\\n",
       "0    2010-09-20 14:03:37       0 1984-01-01       1           3.0   \n",
       "1    2016-08-29 21:07:49       0 2007-01-01       1           3.0   \n",
       "2    2013-09-30 07:26:05       0 2005-01-01       1           3.0   \n",
       "3    2011-04-17 13:15:29       0 2010-01-01       1           3.0   \n",
       "4    2017-05-21 15:24:52       0 2002-01-01       1           3.0   \n",
       "..                   ...     ...        ...     ...           ...   \n",
       "118  2018-01-06 23:15:46       0 2017-01-01       1           3.0   \n",
       "119  2014-03-15 16:44:43       0 2013-01-01       1           0.0   \n",
       "120  2014-08-24 19:48:57       0 2013-01-01       1           3.0   \n",
       "121  2010-09-08 11:41:30       0 2007-01-01       1           3.0   \n",
       "122  2014-03-03 21:00:18       0 2013-01-01       1           0.0   \n",
       "\n",
       "                                    title submitterid      id   imdbid  \\\n",
       "0       What Have I Done to Deserve This?      1917.0  1582.0  0088461   \n",
       "1                            Las 13 rosas     13899.0  7079.0  0809533   \n",
       "2                          20 centimetros      8387.0  4648.0  0421528   \n",
       "3                             For 80 Days      3070.0  2192.0  1600383   \n",
       "4        A mi madre le gustan las mujeres     14890.0  7649.0  0306432   \n",
       "..                                    ...         ...     ...      ...   \n",
       "118                              Veronica     15613.0  7985.0  5862312   \n",
       "119  Vivir es facil con los ojos cerrados      9671.0  5283.0  2896036   \n",
       "120                     The German Doctor     10733.0  5714.0  1847746   \n",
       "121                                   XXY      1859.0  1552.0  0995829   \n",
       "122    Zipi y Zape y el club de la canica      9573.0  5225.0  2388821   \n",
       "\n",
       "     pass_test rating      genre                director     budget     gross  \n",
       "0            1    7.1     Comedy         Pedro Almodóvar  No budget  No gross  \n",
       "1            1    6.6      Drama  Emilio Martínez Lázaro    9000000   6939516  \n",
       "2            1    6.6     Comedy           Ramón Salazar  No budget    439632  \n",
       "3            1    6.9      Drama              Jon Garaño  No budget    115251  \n",
       "4            1    6.2     Comedy        Daniela Fejerman  No budget   2447070  \n",
       "..         ...    ...        ...                     ...        ...       ...  \n",
       "118          1    6.2     Horror              Paco Plaza  No budget   6123089  \n",
       "119          0    7.0     Comedy            David Trueba  No budget   3075169  \n",
       "120          1    6.7      Drama            Lucía Puenzo    2000000   3635718  \n",
       "121          1    7.0      Drama            Lucía Puenzo  No budget   2728869  \n",
       "122          0    5.5  Adventure            Oskar Santos  No budget   7242828  \n",
       "\n",
       "[123 rows x 15 columns]"
      ]
     },
     "execution_count": 478,
     "metadata": {},
     "output_type": "execute_result"
    }
   ],
   "source": [
    "imdb_df = pd.read_csv('spanish_movies_data.csv', dtype=str)\n",
    "df_spanish_movies_bechdel_data = pd.merge(df_spanish_movies_bechdel, imdb_df, how='left', left_on=['imdbid'], right_on=['imdbid'])\n",
    "df_spanish_movies_bechdel_data"
   ]
  },
  {
   "cell_type": "markdown",
   "metadata": {},
   "source": [
    "Let's create a new data frame with only the year, Bechdel score, and IMDB rating, so we can visualize the relationship between the three."
   ]
  },
  {
   "cell_type": "code",
   "execution_count": 479,
   "metadata": {},
   "outputs": [
    {
     "data": {
      "text/html": [
       "<div>\n",
       "<style scoped>\n",
       "    .dataframe tbody tr th:only-of-type {\n",
       "        vertical-align: middle;\n",
       "    }\n",
       "\n",
       "    .dataframe tbody tr th {\n",
       "        vertical-align: top;\n",
       "    }\n",
       "\n",
       "    .dataframe thead th {\n",
       "        text-align: right;\n",
       "    }\n",
       "</style>\n",
       "<table border=\"1\" class=\"dataframe\">\n",
       "  <thead>\n",
       "    <tr style=\"text-align: right;\">\n",
       "      <th></th>\n",
       "      <th>year</th>\n",
       "      <th>Bechdel Score</th>\n",
       "      <th>rating</th>\n",
       "    </tr>\n",
       "  </thead>\n",
       "  <tbody>\n",
       "    <tr>\n",
       "      <th>0</th>\n",
       "      <td>1947-01-01</td>\n",
       "      <td>0.0</td>\n",
       "      <td>NaN</td>\n",
       "    </tr>\n",
       "    <tr>\n",
       "      <th>1</th>\n",
       "      <td>1947-01-01</td>\n",
       "      <td>1.0</td>\n",
       "      <td>NaN</td>\n",
       "    </tr>\n",
       "    <tr>\n",
       "      <th>2</th>\n",
       "      <td>1947-01-01</td>\n",
       "      <td>2.0</td>\n",
       "      <td>NaN</td>\n",
       "    </tr>\n",
       "    <tr>\n",
       "      <th>3</th>\n",
       "      <td>1947-01-01</td>\n",
       "      <td>3.0</td>\n",
       "      <td>6.300000</td>\n",
       "    </tr>\n",
       "    <tr>\n",
       "      <th>4</th>\n",
       "      <td>1951-01-01</td>\n",
       "      <td>0.0</td>\n",
       "      <td>NaN</td>\n",
       "    </tr>\n",
       "    <tr>\n",
       "      <th>...</th>\n",
       "      <td>...</td>\n",
       "      <td>...</td>\n",
       "      <td>...</td>\n",
       "    </tr>\n",
       "    <tr>\n",
       "      <th>167</th>\n",
       "      <td>2018-01-01</td>\n",
       "      <td>3.0</td>\n",
       "      <td>6.733333</td>\n",
       "    </tr>\n",
       "    <tr>\n",
       "      <th>168</th>\n",
       "      <td>2019-01-01</td>\n",
       "      <td>0.0</td>\n",
       "      <td>NaN</td>\n",
       "    </tr>\n",
       "    <tr>\n",
       "      <th>169</th>\n",
       "      <td>2019-01-01</td>\n",
       "      <td>1.0</td>\n",
       "      <td>7.550000</td>\n",
       "    </tr>\n",
       "    <tr>\n",
       "      <th>170</th>\n",
       "      <td>2019-01-01</td>\n",
       "      <td>2.0</td>\n",
       "      <td>NaN</td>\n",
       "    </tr>\n",
       "    <tr>\n",
       "      <th>171</th>\n",
       "      <td>2019-01-01</td>\n",
       "      <td>3.0</td>\n",
       "      <td>NaN</td>\n",
       "    </tr>\n",
       "  </tbody>\n",
       "</table>\n",
       "<p>172 rows × 3 columns</p>\n",
       "</div>"
      ],
      "text/plain": [
       "          year Bechdel Score    rating\n",
       "0   1947-01-01           0.0       NaN\n",
       "1   1947-01-01           1.0       NaN\n",
       "2   1947-01-01           2.0       NaN\n",
       "3   1947-01-01           3.0  6.300000\n",
       "4   1951-01-01           0.0       NaN\n",
       "..         ...           ...       ...\n",
       "167 2018-01-01           3.0  6.733333\n",
       "168 2019-01-01           0.0       NaN\n",
       "169 2019-01-01           1.0  7.550000\n",
       "170 2019-01-01           2.0       NaN\n",
       "171 2019-01-01           3.0       NaN\n",
       "\n",
       "[172 rows x 3 columns]"
      ]
     },
     "execution_count": 479,
     "metadata": {},
     "output_type": "execute_result"
    }
   ],
   "source": [
    "df_spanish_movies_bechdel_data['rating'] = df_spanish_movies_bechdel_data['rating'].astype(float)\n",
    "\n",
    "# Creating a new dataframe with only year, Bechdel scores, and imdb rating:\n",
    "df_spanish_movies_year_score_rating = df_spanish_movies_bechdel_data.groupby(['year','Bechdel Score']).agg({'rating':'mean'}).reset_index()\n",
    "df_spanish_movies_year_score_rating"
   ]
  },
  {
   "cell_type": "code",
   "execution_count": 480,
   "metadata": {},
   "outputs": [
    {
     "name": "stderr",
     "output_type": "stream",
     "text": [
      "/Users/Administrador/opt/anaconda3/lib/python3.8/site-packages/plotnine/stats/smoothers.py:309: PlotnineWarning: Confidence intervals are not yet implemented for lowess smoothings.\n",
      "/Users/Administrador/opt/anaconda3/lib/python3.8/site-packages/plotnine/stats/smoothers.py:309: PlotnineWarning: Confidence intervals are not yet implemented for lowess smoothings.\n",
      "/Users/Administrador/opt/anaconda3/lib/python3.8/site-packages/plotnine/stats/smoothers.py:309: PlotnineWarning: Confidence intervals are not yet implemented for lowess smoothings.\n",
      "/Users/Administrador/opt/anaconda3/lib/python3.8/site-packages/plotnine/stats/smoothers.py:309: PlotnineWarning: Confidence intervals are not yet implemented for lowess smoothings.\n",
      "/Users/Administrador/opt/anaconda3/lib/python3.8/site-packages/plotnine/layer.py:412: PlotnineWarning: geom_point : Removed 109 rows containing missing values.\n"
     ]
    },
    {
     "data": {
      "image/png": "[encoded data removed]",
      "text/plain": [
       "<Figure size 640x480 with 1 Axes>"
      ]
     },
     "metadata": {},
     "output_type": "display_data"
    },
    {
     "data": {
      "text/plain": [
       "<ggplot: (8772441677219)>"
      ]
     },
     "execution_count": 480,
     "metadata": {},
     "output_type": "execute_result"
    }
   ],
   "source": [
    "# Plot year against IMDB rating and Bechdel Score:\n",
    "ratings_plot = ggplot(df_spanish_movies_year_score_rating,aes(x='year',y='rating',color='Bechdel Score'))+geom_point()+geom_smooth()+scale_y_continuous(name=\"imdb rating\")+labs( colour='Bechdel Score' )\n",
    "ratings_plot"
   ]
  },
  {
   "cell_type": "markdown",
   "metadata": {},
   "source": [
    "As can be seen, the IMDb scores of films that pass the Bechdel test peaked between 1990s and 2000s, and started to decline thereafter. In contrast, all films that do not pass the Bechdel test have been increasing their scores over the last few years, paradoxically."
   ]
  },
  {
   "cell_type": "markdown",
   "metadata": {},
   "source": [
    "## Analysisng the relationship between the gender of the director and Bechdel scores"
   ]
  },
  {
   "cell_type": "markdown",
   "metadata": {},
   "source": [
    "I assume that movies with female directors are more likely to have higher Bechdel scores, which I will try to plot here."
   ]
  },
  {
   "cell_type": "markdown",
   "metadata": {},
   "source": [
    "Let's try to predict the gender of the director given their first name with the library gender-guesser, and append it to the data frame."
   ]
  },
  {
   "cell_type": "code",
   "execution_count": 482,
   "metadata": {},
   "outputs": [
    {
     "name": "stderr",
     "output_type": "stream",
     "text": [
      "<ipython-input-482-7eb30cff04b6>:15: SettingWithCopyWarning: \n",
      "A value is trying to be set on a copy of a slice from a DataFrame.\n",
      "Try using .loc[row_indexer,col_indexer] = value instead\n",
      "\n",
      "See the caveats in the documentation: https://pandas.pydata.org/pandas-docs/stable/user_guide/indexing.html#returning-a-view-versus-a-copy\n"
     ]
    }
   ],
   "source": [
    "# Predicting gender of director from first name:\n",
    "d = gender.Detector()\n",
    "genders = []\n",
    "first_names = df_spanish_movies_bechdel_data['director'].str.split().str.get(0)\n",
    "for i in first_names[0:len(first_names)]:\n",
    "    if d.get_gender(i) == 'male':\n",
    "        genders.append('male')\n",
    "    elif d.get_gender(i) == 'female':\n",
    "        genders.append('female')\n",
    "    else:\n",
    "        genders.append('unknown')\n",
    "df_spanish_movies_bechdel_data['gender'] = genders\n",
    "df_spanish_movies_bechdel_data = df_spanish_movies_bechdel_data[df_spanish_movies_bechdel_data['gender'] != 'unknown']\n",
    "# Encode the variable gender into a new dataframe:\n",
    "df_spanish_movies_bechdel_data['Male'] = df_spanish_movies_bechdel_data['gender'].map( {'male':1, 'female':0} )"
   ]
  },
  {
   "cell_type": "code",
   "execution_count": 483,
   "metadata": {},
   "outputs": [
    {
     "data": {
      "text/html": [
       "<div>\n",
       "<style scoped>\n",
       "    .dataframe tbody tr th:only-of-type {\n",
       "        vertical-align: middle;\n",
       "    }\n",
       "\n",
       "    .dataframe tbody tr th {\n",
       "        vertical-align: top;\n",
       "    }\n",
       "\n",
       "    .dataframe thead th {\n",
       "        text-align: right;\n",
       "    }\n",
       "</style>\n",
       "<table border=\"1\" class=\"dataframe\">\n",
       "  <thead>\n",
       "    <tr style=\"text-align: right;\">\n",
       "      <th></th>\n",
       "      <th>date</th>\n",
       "      <th>dubious</th>\n",
       "      <th>year</th>\n",
       "      <th>visible</th>\n",
       "      <th>Bechdel Score</th>\n",
       "      <th>title</th>\n",
       "      <th>submitterid</th>\n",
       "      <th>id</th>\n",
       "      <th>imdbid</th>\n",
       "      <th>pass_test</th>\n",
       "      <th>rating</th>\n",
       "      <th>genre</th>\n",
       "      <th>director</th>\n",
       "      <th>budget</th>\n",
       "      <th>gross</th>\n",
       "      <th>gender</th>\n",
       "      <th>Male</th>\n",
       "    </tr>\n",
       "  </thead>\n",
       "  <tbody>\n",
       "    <tr>\n",
       "      <th>0</th>\n",
       "      <td>2010-09-20 14:03:37</td>\n",
       "      <td>0</td>\n",
       "      <td>1984-01-01</td>\n",
       "      <td>1</td>\n",
       "      <td>3.0</td>\n",
       "      <td>What Have I Done to Deserve This?</td>\n",
       "      <td>1917.0</td>\n",
       "      <td>1582.0</td>\n",
       "      <td>0088461</td>\n",
       "      <td>1</td>\n",
       "      <td>7.1</td>\n",
       "      <td>Comedy</td>\n",
       "      <td>Pedro Almodóvar</td>\n",
       "      <td>No budget</td>\n",
       "      <td>No gross</td>\n",
       "      <td>male</td>\n",
       "      <td>1</td>\n",
       "    </tr>\n",
       "    <tr>\n",
       "      <th>1</th>\n",
       "      <td>2016-08-29 21:07:49</td>\n",
       "      <td>0</td>\n",
       "      <td>2007-01-01</td>\n",
       "      <td>1</td>\n",
       "      <td>3.0</td>\n",
       "      <td>Las 13 rosas</td>\n",
       "      <td>13899.0</td>\n",
       "      <td>7079.0</td>\n",
       "      <td>0809533</td>\n",
       "      <td>1</td>\n",
       "      <td>6.6</td>\n",
       "      <td>Drama</td>\n",
       "      <td>Emilio Martínez Lázaro</td>\n",
       "      <td>9000000</td>\n",
       "      <td>6939516</td>\n",
       "      <td>male</td>\n",
       "      <td>1</td>\n",
       "    </tr>\n",
       "    <tr>\n",
       "      <th>2</th>\n",
       "      <td>2013-09-30 07:26:05</td>\n",
       "      <td>0</td>\n",
       "      <td>2005-01-01</td>\n",
       "      <td>1</td>\n",
       "      <td>3.0</td>\n",
       "      <td>20 centimetros</td>\n",
       "      <td>8387.0</td>\n",
       "      <td>4648.0</td>\n",
       "      <td>0421528</td>\n",
       "      <td>1</td>\n",
       "      <td>6.6</td>\n",
       "      <td>Comedy</td>\n",
       "      <td>Ramón Salazar</td>\n",
       "      <td>No budget</td>\n",
       "      <td>439632</td>\n",
       "      <td>male</td>\n",
       "      <td>1</td>\n",
       "    </tr>\n",
       "    <tr>\n",
       "      <th>3</th>\n",
       "      <td>2011-04-17 13:15:29</td>\n",
       "      <td>0</td>\n",
       "      <td>2010-01-01</td>\n",
       "      <td>1</td>\n",
       "      <td>3.0</td>\n",
       "      <td>For 80 Days</td>\n",
       "      <td>3070.0</td>\n",
       "      <td>2192.0</td>\n",
       "      <td>1600383</td>\n",
       "      <td>1</td>\n",
       "      <td>6.9</td>\n",
       "      <td>Drama</td>\n",
       "      <td>Jon Garaño</td>\n",
       "      <td>No budget</td>\n",
       "      <td>115251</td>\n",
       "      <td>male</td>\n",
       "      <td>1</td>\n",
       "    </tr>\n",
       "    <tr>\n",
       "      <th>4</th>\n",
       "      <td>2017-05-21 15:24:52</td>\n",
       "      <td>0</td>\n",
       "      <td>2002-01-01</td>\n",
       "      <td>1</td>\n",
       "      <td>3.0</td>\n",
       "      <td>A mi madre le gustan las mujeres</td>\n",
       "      <td>14890.0</td>\n",
       "      <td>7649.0</td>\n",
       "      <td>0306432</td>\n",
       "      <td>1</td>\n",
       "      <td>6.2</td>\n",
       "      <td>Comedy</td>\n",
       "      <td>Daniela Fejerman</td>\n",
       "      <td>No budget</td>\n",
       "      <td>2447070</td>\n",
       "      <td>female</td>\n",
       "      <td>0</td>\n",
       "    </tr>\n",
       "    <tr>\n",
       "      <th>...</th>\n",
       "      <td>...</td>\n",
       "      <td>...</td>\n",
       "      <td>...</td>\n",
       "      <td>...</td>\n",
       "      <td>...</td>\n",
       "      <td>...</td>\n",
       "      <td>...</td>\n",
       "      <td>...</td>\n",
       "      <td>...</td>\n",
       "      <td>...</td>\n",
       "      <td>...</td>\n",
       "      <td>...</td>\n",
       "      <td>...</td>\n",
       "      <td>...</td>\n",
       "      <td>...</td>\n",
       "      <td>...</td>\n",
       "      <td>...</td>\n",
       "    </tr>\n",
       "    <tr>\n",
       "      <th>118</th>\n",
       "      <td>2018-01-06 23:15:46</td>\n",
       "      <td>0</td>\n",
       "      <td>2017-01-01</td>\n",
       "      <td>1</td>\n",
       "      <td>3.0</td>\n",
       "      <td>Veronica</td>\n",
       "      <td>15613.0</td>\n",
       "      <td>7985.0</td>\n",
       "      <td>5862312</td>\n",
       "      <td>1</td>\n",
       "      <td>6.2</td>\n",
       "      <td>Horror</td>\n",
       "      <td>Paco Plaza</td>\n",
       "      <td>No budget</td>\n",
       "      <td>6123089</td>\n",
       "      <td>male</td>\n",
       "      <td>1</td>\n",
       "    </tr>\n",
       "    <tr>\n",
       "      <th>119</th>\n",
       "      <td>2014-03-15 16:44:43</td>\n",
       "      <td>0</td>\n",
       "      <td>2013-01-01</td>\n",
       "      <td>1</td>\n",
       "      <td>0.0</td>\n",
       "      <td>Vivir es facil con los ojos cerrados</td>\n",
       "      <td>9671.0</td>\n",
       "      <td>5283.0</td>\n",
       "      <td>2896036</td>\n",
       "      <td>0</td>\n",
       "      <td>7.0</td>\n",
       "      <td>Comedy</td>\n",
       "      <td>David Trueba</td>\n",
       "      <td>No budget</td>\n",
       "      <td>3075169</td>\n",
       "      <td>male</td>\n",
       "      <td>1</td>\n",
       "    </tr>\n",
       "    <tr>\n",
       "      <th>120</th>\n",
       "      <td>2014-08-24 19:48:57</td>\n",
       "      <td>0</td>\n",
       "      <td>2013-01-01</td>\n",
       "      <td>1</td>\n",
       "      <td>3.0</td>\n",
       "      <td>The German Doctor</td>\n",
       "      <td>10733.0</td>\n",
       "      <td>5714.0</td>\n",
       "      <td>1847746</td>\n",
       "      <td>1</td>\n",
       "      <td>6.7</td>\n",
       "      <td>Drama</td>\n",
       "      <td>Lucía Puenzo</td>\n",
       "      <td>2000000</td>\n",
       "      <td>3635718</td>\n",
       "      <td>female</td>\n",
       "      <td>0</td>\n",
       "    </tr>\n",
       "    <tr>\n",
       "      <th>121</th>\n",
       "      <td>2010-09-08 11:41:30</td>\n",
       "      <td>0</td>\n",
       "      <td>2007-01-01</td>\n",
       "      <td>1</td>\n",
       "      <td>3.0</td>\n",
       "      <td>XXY</td>\n",
       "      <td>1859.0</td>\n",
       "      <td>1552.0</td>\n",
       "      <td>0995829</td>\n",
       "      <td>1</td>\n",
       "      <td>7.0</td>\n",
       "      <td>Drama</td>\n",
       "      <td>Lucía Puenzo</td>\n",
       "      <td>No budget</td>\n",
       "      <td>2728869</td>\n",
       "      <td>female</td>\n",
       "      <td>0</td>\n",
       "    </tr>\n",
       "    <tr>\n",
       "      <th>122</th>\n",
       "      <td>2014-03-03 21:00:18</td>\n",
       "      <td>0</td>\n",
       "      <td>2013-01-01</td>\n",
       "      <td>1</td>\n",
       "      <td>0.0</td>\n",
       "      <td>Zipi y Zape y el club de la canica</td>\n",
       "      <td>9573.0</td>\n",
       "      <td>5225.0</td>\n",
       "      <td>2388821</td>\n",
       "      <td>0</td>\n",
       "      <td>5.5</td>\n",
       "      <td>Adventure</td>\n",
       "      <td>Oskar Santos</td>\n",
       "      <td>No budget</td>\n",
       "      <td>7242828</td>\n",
       "      <td>male</td>\n",
       "      <td>1</td>\n",
       "    </tr>\n",
       "  </tbody>\n",
       "</table>\n",
       "<p>104 rows × 17 columns</p>\n",
       "</div>"
      ],
      "text/plain": [
       "                    date dubious       year visible Bechdel Score  \\\n",
       "0    2010-09-20 14:03:37       0 1984-01-01       1           3.0   \n",
       "1    2016-08-29 21:07:49       0 2007-01-01       1           3.0   \n",
       "2    2013-09-30 07:26:05       0 2005-01-01       1           3.0   \n",
       "3    2011-04-17 13:15:29       0 2010-01-01       1           3.0   \n",
       "4    2017-05-21 15:24:52       0 2002-01-01       1           3.0   \n",
       "..                   ...     ...        ...     ...           ...   \n",
       "118  2018-01-06 23:15:46       0 2017-01-01       1           3.0   \n",
       "119  2014-03-15 16:44:43       0 2013-01-01       1           0.0   \n",
       "120  2014-08-24 19:48:57       0 2013-01-01       1           3.0   \n",
       "121  2010-09-08 11:41:30       0 2007-01-01       1           3.0   \n",
       "122  2014-03-03 21:00:18       0 2013-01-01       1           0.0   \n",
       "\n",
       "                                    title submitterid      id   imdbid  \\\n",
       "0       What Have I Done to Deserve This?      1917.0  1582.0  0088461   \n",
       "1                            Las 13 rosas     13899.0  7079.0  0809533   \n",
       "2                          20 centimetros      8387.0  4648.0  0421528   \n",
       "3                             For 80 Days      3070.0  2192.0  1600383   \n",
       "4        A mi madre le gustan las mujeres     14890.0  7649.0  0306432   \n",
       "..                                    ...         ...     ...      ...   \n",
       "118                              Veronica     15613.0  7985.0  5862312   \n",
       "119  Vivir es facil con los ojos cerrados      9671.0  5283.0  2896036   \n",
       "120                     The German Doctor     10733.0  5714.0  1847746   \n",
       "121                                   XXY      1859.0  1552.0  0995829   \n",
       "122    Zipi y Zape y el club de la canica      9573.0  5225.0  2388821   \n",
       "\n",
       "     pass_test  rating      genre                director     budget  \\\n",
       "0            1     7.1     Comedy         Pedro Almodóvar  No budget   \n",
       "1            1     6.6      Drama  Emilio Martínez Lázaro    9000000   \n",
       "2            1     6.6     Comedy           Ramón Salazar  No budget   \n",
       "3            1     6.9      Drama              Jon Garaño  No budget   \n",
       "4            1     6.2     Comedy        Daniela Fejerman  No budget   \n",
       "..         ...     ...        ...                     ...        ...   \n",
       "118          1     6.2     Horror              Paco Plaza  No budget   \n",
       "119          0     7.0     Comedy            David Trueba  No budget   \n",
       "120          1     6.7      Drama            Lucía Puenzo    2000000   \n",
       "121          1     7.0      Drama            Lucía Puenzo  No budget   \n",
       "122          0     5.5  Adventure            Oskar Santos  No budget   \n",
       "\n",
       "        gross  gender  Male  \n",
       "0    No gross    male     1  \n",
       "1     6939516    male     1  \n",
       "2      439632    male     1  \n",
       "3      115251    male     1  \n",
       "4     2447070  female     0  \n",
       "..        ...     ...   ...  \n",
       "118   6123089    male     1  \n",
       "119   3075169    male     1  \n",
       "120   3635718  female     0  \n",
       "121   2728869  female     0  \n",
       "122   7242828    male     1  \n",
       "\n",
       "[104 rows x 17 columns]"
      ]
     },
     "execution_count": 483,
     "metadata": {},
     "output_type": "execute_result"
    }
   ],
   "source": [
    "df_spanish_movies_bechdel_data"
   ]
  },
  {
   "cell_type": "markdown",
   "metadata": {},
   "source": [
    "The data frame has two additional variables; gender and male. Gender represents the gender of the director. The variable male has a value of 1 if the director is male, and 0 if she is female.\n",
    "\n",
    "Now that I have this information, I will go ahead and visualize some more trends in the data.\n",
    "\n",
    "Let's create a count plot of the variable gender, to visualize the number of males to females in the dataset."
   ]
  },
  {
   "cell_type": "code",
   "execution_count": 484,
   "metadata": {},
   "outputs": [
    {
     "data": {
      "text/plain": [
       "<AxesSubplot:xlabel='gender', ylabel='count'>"
      ]
     },
     "execution_count": 484,
     "metadata": {},
     "output_type": "execute_result"
    },
    {
     "data": {
      "image/png": "[encoded data removed]",
      "text/plain": [
       "<Figure size 432x288 with 1 Axes>"
      ]
     },
     "metadata": {
      "needs_background": "light"
     },
     "output_type": "display_data"
    }
   ],
   "source": [
    "sns.countplot(x='gender',data=df_spanish_movies_bechdel_data)"
   ]
  },
  {
   "cell_type": "markdown",
   "metadata": {},
   "source": [
    "It appears as though almost all the movies in the dataset have male directors. Again, this was something I expected, since Spanish movies are not known for having a large number of female directors.\n",
    "\n",
    "Next, I will visualize the gender of the director with the Bechdel score, to see if movies with female directors have a higher score."
   ]
  },
  {
   "cell_type": "code",
   "execution_count": 485,
   "metadata": {},
   "outputs": [
    {
     "name": "stderr",
     "output_type": "stream",
     "text": [
      "/Users/Administrador/opt/anaconda3/lib/python3.8/site-packages/seaborn/categorical.py:253: FutureWarning: Index.ravel returning ndarray is deprecated; in a future version this will return a view on self.\n",
      "/Users/Administrador/opt/anaconda3/lib/python3.8/site-packages/seaborn/categorical.py:253: FutureWarning: Index.ravel returning ndarray is deprecated; in a future version this will return a view on self.\n"
     ]
    },
    {
     "data": {
      "text/plain": [
       "<AxesSubplot:xlabel='Bechdel Score', ylabel='count'>"
      ]
     },
     "execution_count": 485,
     "metadata": {},
     "output_type": "execute_result"
    },
    {
     "data": {
      "image/png": "[encoded data removed]",
      "text/plain": [
       "<Figure size 432x288 with 1 Axes>"
      ]
     },
     "metadata": {
      "needs_background": "light"
     },
     "output_type": "display_data"
    }
   ],
   "source": [
    "sns.countplot(x='Bechdel Score',hue='gender',data=df_spanish_movies_bechdel_data)"
   ]
  },
  {
   "cell_type": "code",
   "execution_count": 486,
   "metadata": {},
   "outputs": [
    {
     "data": {
      "image/png": "[encoded data removed]",
      "text/plain": [
       "<Figure size 640x480 with 1 Axes>"
      ]
     },
     "metadata": {},
     "output_type": "display_data"
    },
    {
     "data": {
      "text/plain": [
       "<ggplot: (8772441416608)>"
      ]
     },
     "execution_count": 486,
     "metadata": {},
     "output_type": "execute_result"
    }
   ],
   "source": [
    "ggplot(df_spanish_movies_bechdel_data, aes(x='year', y='Bechdel Score', color='gender'))+geom_point()"
   ]
  },
  {
   "cell_type": "markdown",
   "metadata": {},
   "source": [
    "All the movies with female directors seem to pass the Bechdel test!\n",
    "\n",
    "Now let's take a look at the variable budget, to see if there is any kind of correlation between the budget of a movie and it’s Bechdel score."
   ]
  },
  {
   "cell_type": "markdown",
   "metadata": {},
   "source": [
    "## Analysis of the relationship between the budget and the Bechdel score"
   ]
  },
  {
   "cell_type": "code",
   "execution_count": 488,
   "metadata": {},
   "outputs": [],
   "source": [
    "df_spanish_movies_bechdel_data.at[10, 'budget'] = \"8000000\""
   ]
  },
  {
   "cell_type": "code",
   "execution_count": 489,
   "metadata": {},
   "outputs": [
    {
     "name": "stderr",
     "output_type": "stream",
     "text": [
      "<ipython-input-489-820b5674c1d8>:2: SettingWithCopyWarning: \n",
      "A value is trying to be set on a copy of a slice from a DataFrame.\n",
      "Try using .loc[row_indexer,col_indexer] = value instead\n",
      "\n",
      "See the caveats in the documentation: https://pandas.pydata.org/pandas-docs/stable/user_guide/indexing.html#returning-a-view-versus-a-copy\n",
      "/Users/Administrador/opt/anaconda3/lib/python3.8/site-packages/plotnine/stats/smoothers.py:309: PlotnineWarning: Confidence intervals are not yet implemented for lowess smoothings.\n",
      "/Users/Administrador/opt/anaconda3/lib/python3.8/site-packages/plotnine/stats/smoothers.py:309: PlotnineWarning: Confidence intervals are not yet implemented for lowess smoothings.\n",
      "/Users/Administrador/opt/anaconda3/lib/python3.8/site-packages/statsmodels/nonparametric/smoothers_lowess.py:227: RuntimeWarning: invalid value encountered in true_divide\n",
      "/Users/Administrador/opt/anaconda3/lib/python3.8/site-packages/plotnine/stats/smoothers.py:309: PlotnineWarning: Confidence intervals are not yet implemented for lowess smoothings.\n",
      "/Users/Administrador/opt/anaconda3/lib/python3.8/site-packages/plotnine/stats/smoothers.py:309: PlotnineWarning: Confidence intervals are not yet implemented for lowess smoothings.\n"
     ]
    },
    {
     "data": {
      "image/png": "[encoded data removed]",
      "text/plain": [
       "<Figure size 640x480 with 1 Axes>"
      ]
     },
     "metadata": {},
     "output_type": "display_data"
    },
    {
     "data": {
      "text/plain": [
       "<ggplot: (8772441472016)>"
      ]
     },
     "execution_count": 489,
     "metadata": {},
     "output_type": "execute_result"
    }
   ],
   "source": [
    "df_movies_with_budget = df_spanish_movies_bechdel_data[df_spanish_movies_bechdel_data['budget'] != 'No budget']\n",
    "df_movies_with_budget['budget'] = df_movies_with_budget['budget'].astype('float') \n",
    "ggplot(df_movies_with_budget, aes(x='year', y='budget',color='Bechdel Score'))+geom_point()+geom_smooth()"
   ]
  },
  {
   "cell_type": "markdown",
   "metadata": {},
   "source": [
    "One thing that can be seen here is a significant increase in a movie’s budget with time except for the movies that pass the Bechdel test. Movies that pass the Bechdel test seem to have a way less budget than movies that score a one or two, but there is no strong correlation that can be observed here.\n",
    "\n",
    "Let's visualize the relationship between budget and gender of the director."
   ]
  },
  {
   "cell_type": "markdown",
   "metadata": {},
   "source": [
    "## Analysis of the relationship between the budget and the gender of the director"
   ]
  },
  {
   "cell_type": "code",
   "execution_count": 490,
   "metadata": {},
   "outputs": [
    {
     "name": "stderr",
     "output_type": "stream",
     "text": [
      "/Users/Administrador/opt/anaconda3/lib/python3.8/site-packages/plotnine/stats/smoothers.py:309: PlotnineWarning: Confidence intervals are not yet implemented for lowess smoothings.\n",
      "/Users/Administrador/opt/anaconda3/lib/python3.8/site-packages/plotnine/stats/smoothers.py:309: PlotnineWarning: Confidence intervals are not yet implemented for lowess smoothings.\n"
     ]
    },
    {
     "data": {
      "image/png": "[encoded data removed]",
      "text/plain": [
       "<Figure size 640x480 with 1 Axes>"
      ]
     },
     "metadata": {},
     "output_type": "display_data"
    },
    {
     "data": {
      "text/plain": [
       "<ggplot: (8772441465769)>"
      ]
     },
     "execution_count": 490,
     "metadata": {},
     "output_type": "execute_result"
    }
   ],
   "source": [
    "ggplot(df_movies_with_budget, aes(x='year', y='budget',color='gender'))+geom_point()+geom_smooth()"
   ]
  },
  {
   "cell_type": "markdown",
   "metadata": {},
   "source": [
    "The gender of the director does not appear to have any kind of relationship or impact on the budget of a movie."
   ]
  },
  {
   "cell_type": "markdown",
   "metadata": {},
   "source": [
    "## Analysing the relationship between a movie’s budget, Bechdel score, and gender of director"
   ]
  },
  {
   "cell_type": "code",
   "execution_count": 491,
   "metadata": {},
   "outputs": [
    {
     "name": "stderr",
     "output_type": "stream",
     "text": [
      "/Users/Administrador/opt/anaconda3/lib/python3.8/site-packages/seaborn/categorical.py:253: FutureWarning: Index.ravel returning ndarray is deprecated; in a future version this will return a view on self.\n",
      "/Users/Administrador/opt/anaconda3/lib/python3.8/site-packages/seaborn/categorical.py:253: FutureWarning: Index.ravel returning ndarray is deprecated; in a future version this will return a view on self.\n"
     ]
    },
    {
     "data": {
      "text/plain": [
       "<AxesSubplot:xlabel='Bechdel Score', ylabel='budget'>"
      ]
     },
     "execution_count": 491,
     "metadata": {},
     "output_type": "execute_result"
    },
    {
     "data": {
      "image/png": "[encoded data removed]",
      "text/plain": [
       "<Figure size 432x288 with 1 Axes>"
      ]
     },
     "metadata": {
      "needs_background": "light"
     },
     "output_type": "display_data"
    }
   ],
   "source": [
    "sns.violinplot(x='Bechdel Score',y='budget',hue='Male', data=df_movies_with_budget)"
   ]
  },
  {
   "cell_type": "markdown",
   "metadata": {},
   "source": [
    "## Analysing the genre of a movie and Bechdel scores, and any changes with time"
   ]
  },
  {
   "cell_type": "code",
   "execution_count": 492,
   "metadata": {},
   "outputs": [
    {
     "data": {
      "image/png": "[encoded data removed]",
      "text/plain": [
       "<Figure size 640x480 with 1 Axes>"
      ]
     },
     "metadata": {},
     "output_type": "display_data"
    },
    {
     "data": {
      "text/plain": [
       "<ggplot: (8772443758656)>"
      ]
     },
     "execution_count": 492,
     "metadata": {},
     "output_type": "execute_result"
    }
   ],
   "source": [
    "ggplot(df_movies_with_budget, aes(x = 'year', y = 'genre',color='Bechdel Score'))+geom_point()"
   ]
  },
  {
   "cell_type": "markdown",
   "metadata": {},
   "source": [
    "## Analysing the movie grossings, along with year, Bechdel scores, and gender"
   ]
  },
  {
   "cell_type": "code",
   "execution_count": 495,
   "metadata": {},
   "outputs": [
    {
     "name": "stderr",
     "output_type": "stream",
     "text": [
      "<ipython-input-495-d72ffe252b18>:2: SettingWithCopyWarning: \n",
      "A value is trying to be set on a copy of a slice from a DataFrame.\n",
      "Try using .loc[row_indexer,col_indexer] = value instead\n",
      "\n",
      "See the caveats in the documentation: https://pandas.pydata.org/pandas-docs/stable/user_guide/indexing.html#returning-a-view-versus-a-copy\n"
     ]
    }
   ],
   "source": [
    "df_movies_with_gross = df_spanish_movies_bechdel_data[df_spanish_movies_bechdel_data['gross'] != 'No gross']\n",
    "df_movies_with_gross['gross'] = df_movies_with_gross['gross'].astype('float')"
   ]
  },
  {
   "cell_type": "code",
   "execution_count": 496,
   "metadata": {},
   "outputs": [
    {
     "name": "stderr",
     "output_type": "stream",
     "text": [
      "/Users/Administrador/opt/anaconda3/lib/python3.8/site-packages/seaborn/categorical.py:253: FutureWarning: Index.ravel returning ndarray is deprecated; in a future version this will return a view on self.\n",
      "/Users/Administrador/opt/anaconda3/lib/python3.8/site-packages/seaborn/categorical.py:253: FutureWarning: Index.ravel returning ndarray is deprecated; in a future version this will return a view on self.\n"
     ]
    },
    {
     "data": {
      "text/plain": [
       "<AxesSubplot:xlabel='Bechdel Score', ylabel='gross'>"
      ]
     },
     "execution_count": 496,
     "metadata": {},
     "output_type": "execute_result"
    },
    {
     "data": {
      "image/png": "[encoded data removed]",
      "text/plain": [
       "<Figure size 432x288 with 1 Axes>"
      ]
     },
     "metadata": {
      "needs_background": "light"
     },
     "output_type": "display_data"
    }
   ],
   "source": [
    "# Movie grossing with Bechdel score and gender:\n",
    "sns.violinplot(x='Bechdel Score',y='gross',hue='Male',data=df_movies_with_gross)"
   ]
  },
  {
   "cell_type": "code",
   "execution_count": 497,
   "metadata": {},
   "outputs": [
    {
     "data": {
      "image/png": "[encoded data removed]",
      "text/plain": [
       "<Figure size 640x480 with 1 Axes>"
      ]
     },
     "metadata": {},
     "output_type": "display_data"
    },
    {
     "data": {
      "text/plain": [
       "<ggplot: (8772441135297)>"
      ]
     },
     "execution_count": 497,
     "metadata": {},
     "output_type": "execute_result"
    }
   ],
   "source": [
    "# Movie grossing with year and gender:\n",
    "ggplot(df_movies_with_gross, aes(x = 'year', y = 'gross',color='gender'))+geom_point()"
   ]
  },
  {
   "cell_type": "markdown",
   "metadata": {},
   "source": [
    "# Conclusions"
   ]
  },
  {
   "cell_type": "markdown",
   "metadata": {},
   "source": [
    "This it it! I managed to visualize relationships and answer all the data questions I set out to find answers to.\n",
    "\n",
    "Some interesting data findings include:\n",
    "\n",
    "1. Nowadays, movies that fail the Bechdel test tend to have higher IMDB ratings.\n",
    "2. Over the years, there has been an increasing number of movies that pass the Bechdel test.\n",
    "3. Movies with female directors have higher Bechdel scores.\n",
    "4. There is no clear correlation between the budget or revenue of a movie and its Bechdel score, although it is possible to observe that films that pass the Bechdel test have a lower budget.\n",
    "\n",
    "Of course, this analysis was only done with the data I gathered from two places, and might not represent the entire population of movies out there, because, out of 3 000 Spanish films that can be found on Wikipedia, only 123 have been subjected to the Bechdel test, which is too few data for a complete analysis.\n",
    "\n",
    "Furthermore, there may have been other variables present that affected the outcome of this analysis, and it might be a good idea to experiment with data from a couple of other places before coming to a conclusion.\n",
    "\n",
    "Finally, I would like to mention that the Bechdel test is not necessarily the best benchmark to measure female representation in movies. It does not take into consideration how well written a female character is, neither does it measure meaningful depth of character.\n",
    "\n",
    "However, it is one of the most well-known metrics used to expose gender bias and is the only test we have this kind of data on."
   ]
  }
 ],
 "metadata": {
  "kernelspec": {
   "display_name": "Python 3",
   "language": "python",
   "name": "python3"
  },
  "language_info": {
   "codemirror_mode": {
    "name": "ipython",
    "version": 3
   },
   "file_extension": ".py",
   "mimetype": "text/x-python",
   "name": "python",
   "nbconvert_exporter": "python",
   "pygments_lexer": "ipython3",
   "version": "3.8.5"
  }
 },
 "nbformat": 4,
 "nbformat_minor": 4
}
